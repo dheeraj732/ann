{
 "cells": [
  {
   "cell_type": "markdown",
   "id": "5d1bf1d0-471d-460e-91d9-030eb68e28a9",
   "metadata": {},
   "source": [
    "1. Extract Sample document and apply following document preprocessing methods:\n",
    "Tokenization, POS Tagging, stop words removal, Stemming and Lemmatization.\n",
    "2. Create representation of documents by calculating Term Frequency and Inverse\n",
    "DocumentFrequency.`"
   ]
  },
  {
   "cell_type": "code",
   "execution_count": 3,
   "id": "2df8f040-94f4-4599-8077-70c990d2a837",
   "metadata": {},
   "outputs": [],
   "source": [
    "import nltk\n",
    "import spacy"
   ]
  },
  {
   "cell_type": "markdown",
   "id": "64a8e975-2286-4780-b97c-fd5bc4e252c8",
   "metadata": {},
   "source": [
    "## 1. Tokenization"
   ]
  },
  {
   "cell_type": "code",
   "execution_count": 82,
   "id": "6311e8f8-ca25-4dad-801d-baf06daec1d6",
   "metadata": {},
   "outputs": [
    {
     "name": "stdout",
     "output_type": "stream",
     "text": [
      "Tokens:\n",
      "['Mr.', 'Peter', 'just', 'came', 'from', 'running', 'and', 'he', 'was', 'eating', 'apple', 'which', 'is', 'better', 'for', 'health']\n"
     ]
    }
   ],
   "source": [
    "from nltk.tokenize import word_tokenize\n",
    "example_text = 'Mr. Peter just came from running and he was eating apple which is better for health'\n",
    "\n",
    "nltk_tokens = word_tokenize(example_text)\n",
    "print('Tokens:')\n",
    "print(nltk_tokens)"
   ]
  },
  {
   "cell_type": "code",
   "execution_count": 83,
   "id": "04e9f3d7-07c6-4381-ba86-87e99eb0efdd",
   "metadata": {},
   "outputs": [],
   "source": [
    "# !python -m spacy download en_core_web_sm"
   ]
  },
  {
   "cell_type": "code",
   "execution_count": 84,
   "id": "81718202-f4cf-4fd4-9d2a-746f9cb29fdf",
   "metadata": {},
   "outputs": [
    {
     "name": "stdout",
     "output_type": "stream",
     "text": [
      "'Mr.' 'Peter' 'just' 'came' 'from' 'running' 'and' 'he' 'was' 'eating' 'apple' 'which' 'is' 'better' 'for' 'health' "
     ]
    }
   ],
   "source": [
    "model = spacy.load('en_core_web_sm')\n",
    "spacy_tokens = model(example_text)\n",
    "for token in spacy_tokens:\n",
    "    print(f'\\'{token}\\'',end=' ')"
   ]
  },
  {
   "cell_type": "markdown",
   "id": "3704313e-3600-4fff-9650-040125574b7b",
   "metadata": {},
   "source": [
    "## 2. POS tagging"
   ]
  },
  {
   "cell_type": "code",
   "execution_count": 85,
   "id": "dd55353f-e29f-4314-ad8d-63eeef492e4d",
   "metadata": {},
   "outputs": [
    {
     "name": "stdout",
     "output_type": "stream",
     "text": [
      "Pos Tags:\n",
      "[('Mr.', 'NNP'), ('Peter', 'NNP'), ('just', 'RB'), ('came', 'VBD'), ('from', 'IN'), ('running', 'VBG'), ('and', 'CC'), ('he', 'PRP'), ('was', 'VBD'), ('eating', 'VBG'), ('apple', 'NN'), ('which', 'WDT'), ('is', 'VBZ'), ('better', 'RBR'), ('for', 'IN'), ('health', 'NN')]\n"
     ]
    }
   ],
   "source": [
    "from nltk import pos_tag\n",
    "\n",
    "print('Pos Tags:')\n",
    "print(pos_tag(nltk_tokens))"
   ]
  },
  {
   "cell_type": "code",
   "execution_count": 86,
   "id": "8eab5275-6497-40ca-8518-627a1d54397c",
   "metadata": {},
   "outputs": [
    {
     "name": "stdout",
     "output_type": "stream",
     "text": [
      "Mr. --> PROPN\n",
      "Peter --> PROPN\n",
      "just --> ADV\n",
      "came --> VERB\n",
      "from --> ADP\n",
      "running --> VERB\n",
      "and --> CCONJ\n",
      "he --> PRON\n",
      "was --> AUX\n",
      "eating --> VERB\n",
      "apple --> NOUN\n",
      "which --> PRON\n",
      "is --> AUX\n",
      "better --> ADJ\n",
      "for --> ADP\n",
      "health --> NOUN\n"
     ]
    }
   ],
   "source": [
    "for token in spacy_tokens:\n",
    "    print(token,'-->',token.pos_)"
   ]
  },
  {
   "cell_type": "markdown",
   "id": "aa38b762-c5d4-4c1a-9b11-809c98a4b96f",
   "metadata": {},
   "source": [
    "## 3. Stop Words Removal"
   ]
  },
  {
   "cell_type": "code",
   "execution_count": 87,
   "id": "6d283140-a488-46e1-8b6e-2ca8143781d1",
   "metadata": {},
   "outputs": [
    {
     "data": {
      "text/plain": [
       "['Mr.', 'Peter', 'came', 'running', 'eating', 'apple', 'better', 'health']"
      ]
     },
     "execution_count": 87,
     "metadata": {},
     "output_type": "execute_result"
    }
   ],
   "source": [
    "from nltk.corpus import stopwords\n",
    "\n",
    "stop_words = stopwords.words('english')\n",
    "filtered_words = [word for word in nltk_tokens if word not in stop_words]\n",
    "filtered_words"
   ]
  },
  {
   "cell_type": "code",
   "execution_count": 88,
   "id": "33c1e93d-8b98-48f0-ae2f-7922a05601de",
   "metadata": {},
   "outputs": [
    {
     "name": "stdout",
     "output_type": "stream",
     "text": [
      "Mr. Peter came running eating apple better health "
     ]
    }
   ],
   "source": [
    "for token in spacy_tokens:\n",
    "    if not token.is_stop:\n",
    "        print(token,end=' ')"
   ]
  },
  {
   "cell_type": "markdown",
   "id": "2bc3bf4b-269e-4ab5-9adf-fbe657855d2c",
   "metadata": {},
   "source": [
    "## 4. Stemming"
   ]
  },
  {
   "cell_type": "code",
   "execution_count": 94,
   "id": "27aa17d4-67d8-4065-9534-640955b34a4f",
   "metadata": {},
   "outputs": [
    {
     "name": "stdout",
     "output_type": "stream",
     "text": [
      "mr. peter just came from run and he wa eat appl which is better for health\n"
     ]
    }
   ],
   "source": [
    "from nltk.stem import PorterStemmer\n",
    "\n",
    "ps = PorterStemmer()\n",
    "stemmed_words = [ps.stem(word) for word in nltk_tokens]\n",
    "print(' '.join(stemmed_words))"
   ]
  },
  {
   "cell_type": "markdown",
   "id": "ddf94979-d26e-426d-a7d5-12a1fe7373e3",
   "metadata": {},
   "source": [
    "## 5. Lemmatization"
   ]
  },
  {
   "cell_type": "code",
   "execution_count": 99,
   "id": "217dcbeb-e825-448c-9d3f-155f7c4d7714",
   "metadata": {},
   "outputs": [
    {
     "name": "stdout",
     "output_type": "stream",
     "text": [
      "Mr. Peter just came from running and he was eating apple which is good for health\n"
     ]
    }
   ],
   "source": [
    "from nltk.stem import WordNetLemmatizer\n",
    "\n",
    "lemmatizer = WordNetLemmatizer()\n",
    "lemmatized_words = [lemmatizer.lemmatize(word,'a') for word in nltk_tokens]\n",
    "print(' '.join(lemmatized_words))"
   ]
  },
  {
   "cell_type": "code",
   "execution_count": 100,
   "id": "8a8d94e0-6479-48bf-9a89-1b1125d8acf7",
   "metadata": {},
   "outputs": [
    {
     "name": "stdout",
     "output_type": "stream",
     "text": [
      "Mr. Peter just come from run and he be eat apple which be better for health\n"
     ]
    }
   ],
   "source": [
    "from nltk.stem import WordNetLemmatizer\n",
    "\n",
    "lemmatizer = WordNetLemmatizer()\n",
    "lemmatized_words = [lemmatizer.lemmatize(word,'v') for word in nltk_tokens]\n",
    "print(' '.join(lemmatized_words))"
   ]
  },
  {
   "cell_type": "code",
   "execution_count": 102,
   "id": "618c1623-d046-4e22-afbf-390a92d22871",
   "metadata": {},
   "outputs": [
    {
     "name": "stdout",
     "output_type": "stream",
     "text": [
      "Mr. Peter just come from run and he be eat apple which be well for health "
     ]
    }
   ],
   "source": [
    "for token in spacy_tokens:\n",
    "    print(token.lemma_,end=' ')"
   ]
  },
  {
   "cell_type": "markdown",
   "id": "6e0e121d-c226-44b2-847b-91fbbc50940c",
   "metadata": {},
   "source": [
    "## 6. TF-IDF"
   ]
  },
  {
   "cell_type": "code",
   "execution_count": 127,
   "id": "302b2a31-6dc8-492f-8af8-0747eadc1d48",
   "metadata": {},
   "outputs": [
    {
     "name": "stdout",
     "output_type": "stream",
     "text": [
      "Doc 0:\n",
      "there --> 0.3328717774571481\n",
      "is --> 0.3328717774571481\n",
      "difference --> 0.3328717774571481\n",
      "between --> 0.3328717774571481\n",
      "apple --> 0.4736820224661604\n",
      "fruit --> 0.3328717774571481\n",
      "and --> 0.3328717774571481\n",
      "apple --> 0.4736820224661604\n",
      "company --> 0.3328717774571481\n",
      "Doc 1:\n",
      "an --> 0.3920440146223274\n",
      "apple --> 0.2789425453258252\n",
      "everyday --> 0.3920440146223274\n",
      "keeps --> 0.3920440146223274\n",
      "the --> 0.3920440146223274\n",
      "doctor --> 0.3920440146223274\n",
      "away --> 0.3920440146223274\n"
     ]
    }
   ],
   "source": [
    "from sklearn.feature_extraction.text import TfidfVectorizer\n",
    "\n",
    "tfidfvec = TfidfVectorizer()\n",
    "corpus = ['There is difference between apple fruit and apple company',\n",
    "          'An apple everyday keeps the doctor away']\n",
    "\n",
    "tfidf_weights = tfidfvec.fit_transform(corpus).toarray()\n",
    "\n",
    "for i,doc in enumerate(corpus):\n",
    "    print(f'Doc {i}:')\n",
    "    for word in word_tokenize(corpus[i].lower()):\n",
    "        if word!='.':\n",
    "            idx = tfidfvec.vocabulary_[word]\n",
    "            print(word,'-->',tfidf_weights[i][idx])"
   ]
  },
  {
   "cell_type": "code",
   "execution_count": 122,
   "id": "7c177128-7f59-4454-9e32-25f7f7db8f17",
   "metadata": {},
   "outputs": [
    {
     "data": {
      "text/plain": [
       "<1x16 sparse matrix of type '<class 'numpy.float64'>'\n",
       "\twith 11 stored elements in Compressed Sparse Row format>"
      ]
     },
     "execution_count": 122,
     "metadata": {},
     "output_type": "execute_result"
    }
   ],
   "source": [
    "tfidf_weights[1]"
   ]
  },
  {
   "cell_type": "markdown",
   "id": "3a06a683-2bb8-4480-acb3-3cdd637bf5b9",
   "metadata": {},
   "source": [
    "## only spacy"
   ]
  },
  {
   "cell_type": "code",
   "execution_count": 1,
   "id": "9e97425f-dcfe-4ea9-8af4-dbaf631d3cfa",
   "metadata": {},
   "outputs": [],
   "source": [
    "import spacy"
   ]
  },
  {
   "cell_type": "code",
   "execution_count": 2,
   "id": "f00e4b85-9c49-41ae-93e3-666ffaa8820f",
   "metadata": {},
   "outputs": [],
   "source": [
    "# !python -m spacy download en_core_web_sm"
   ]
  },
  {
   "cell_type": "code",
   "execution_count": null,
   "id": "1b1168a9-da3f-4fb3-91ba-d14b1114bb64",
   "metadata": {},
   "outputs": [],
   "source": [
    "example_text = 'Mr. Peter just came from running and he was eating apple which is better for health'\n",
    "\n",
    "model = spacy.load('en_core_web_sm')\n",
    "tokens = model(example_text)"
   ]
  },
  {
   "cell_type": "markdown",
   "id": "d50558fd-ccd4-4193-ae21-b5e44c75a786",
   "metadata": {},
   "source": [
    "### tokenization"
   ]
  },
  {
   "cell_type": "code",
   "execution_count": 7,
   "id": "ab75f29a-9512-40e7-a1e6-d9c5b731c753",
   "metadata": {},
   "outputs": [
    {
     "name": "stdout",
     "output_type": "stream",
     "text": [
      "Mr. Peter just came from running and he was eating apple which is better for health "
     ]
    }
   ],
   "source": [
    "for token in tokens:\n",
    "    print(token,end=' ')"
   ]
  },
  {
   "cell_type": "markdown",
   "id": "5c474ca9-f3de-456c-80e4-1e3bb2d41573",
   "metadata": {},
   "source": [
    "### pos tagging"
   ]
  },
  {
   "cell_type": "code",
   "execution_count": 8,
   "id": "4ca57005-ec70-4fb8-9372-258f946f5876",
   "metadata": {},
   "outputs": [
    {
     "name": "stdout",
     "output_type": "stream",
     "text": [
      "Mr. --> PROPN\n",
      "Peter --> PROPN\n",
      "just --> ADV\n",
      "came --> VERB\n",
      "from --> ADP\n",
      "running --> VERB\n",
      "and --> CCONJ\n",
      "he --> PRON\n",
      "was --> AUX\n",
      "eating --> VERB\n",
      "apple --> NOUN\n",
      "which --> PRON\n",
      "is --> AUX\n",
      "better --> ADJ\n",
      "for --> ADP\n",
      "health --> NOUN\n"
     ]
    }
   ],
   "source": [
    "for token in tokens:\n",
    "    print(token,'-->',token.pos_)"
   ]
  },
  {
   "cell_type": "markdown",
   "id": "37d50b0e-d6ba-43d4-afb8-f075c62a880e",
   "metadata": {},
   "source": [
    "### stop words removal"
   ]
  },
  {
   "cell_type": "code",
   "execution_count": 12,
   "id": "a5db2b0a-8459-40fa-b662-837a1f35c51c",
   "metadata": {},
   "outputs": [
    {
     "name": "stdout",
     "output_type": "stream",
     "text": [
      "Mr. Peter came running eating apple better health "
     ]
    }
   ],
   "source": [
    "for token in tokens:\n",
    "    if not token.is_stop:\n",
    "        print(token,end=' ')"
   ]
  },
  {
   "cell_type": "markdown",
   "id": "76f2dacd-e83d-48ec-9344-c1740b0bd026",
   "metadata": {},
   "source": [
    "### lemmatization"
   ]
  },
  {
   "cell_type": "code",
   "execution_count": 14,
   "id": "b0036cef-9c64-469e-a1c5-9b78abbacb9e",
   "metadata": {},
   "outputs": [
    {
     "name": "stdout",
     "output_type": "stream",
     "text": [
      "Mr. Peter just come from run and he be eat apple which be well for health "
     ]
    }
   ],
   "source": [
    "for token in tokens:\n",
    "    print(token.lemma_,end=' ')"
   ]
  },
  {
   "cell_type": "code",
   "execution_count": null,
   "id": "10844107-378b-41b6-a705-202b3ebc8297",
   "metadata": {},
   "outputs": [],
   "source": []
  }
 ],
 "metadata": {
  "kernelspec": {
   "display_name": "Python 3 (ipykernel)",
   "language": "python",
   "name": "python3"
  },
  "language_info": {
   "codemirror_mode": {
    "name": "ipython",
    "version": 3
   },
   "file_extension": ".py",
   "mimetype": "text/x-python",
   "name": "python",
   "nbconvert_exporter": "python",
   "pygments_lexer": "ipython3",
   "version": "3.12.1"
  }
 },
 "nbformat": 4,
 "nbformat_minor": 5
}
