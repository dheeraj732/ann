{
 "cells": [
  {
   "cell_type": "markdown",
   "id": "06f7bb01",
   "metadata": {},
   "source": [
    "## Name of the practical: Data Wrangling I\n",
    "<br><br>\n",
    "**Perform the following operations using Python on any open source dataset (e.g., data.csv)**\n",
    "1. Import all the required Python Libraries.\n",
    "2. Locate open source data from the web (e.g., https://www.kaggle.com). Provide a clear\n",
    "description of the data and its source (i.e., URL of the web site).\n",
    "3. Load the Dataset into pandas dataframe.\n",
    "4. Data Preprocessing: check for missing values in the data using pandas isnull(), describe()\n",
    "function to get some initial statistics. Provide variable descriptions. Types of variables etc.\n",
    "Check the dimensions of the data frame.\n",
    "5. Data Formatting and Data Normalization: Summarize the types of variables by checking the\n",
    "data types (i.e., character, numeric, integer, factor, and logical) of the variables in the data set.\n",
    "If variables are not in the correct data type, apply proper type conversions.\n",
    "6. Turn categorical variables into quantitative variables in Python.\n",
    "In addition to the codes and outputs, explain every operation that you do in the above steps and explain\n",
    "everything that you do to import/read/scrape the data set."
   ]
  },
  {
   "cell_type": "markdown",
   "id": "c989f504",
   "metadata": {
    "tags": []
   },
   "source": [
    "## 1. Import all the required Python Libraries."
   ]
  },
  {
   "cell_type": "code",
   "execution_count": 67,
   "id": "39342b1f",
   "metadata": {
    "tags": []
   },
   "outputs": [],
   "source": [
    "import pandas as pd"
   ]
  },
  {
   "cell_type": "markdown",
   "id": "70139878-0abe-4684-bd4c-5f1abb9db631",
   "metadata": {
    "jp-MarkdownHeadingCollapsed": true,
    "tags": []
   },
   "source": [
    "## 2. Locate open source data from the web (e.g., https://www.kaggle.com). Provide a clear description of the data and its source (i.e., URL of the web site)."
   ]
  },
  {
   "cell_type": "markdown",
   "id": "231ed3dc-239d-4e8f-88b6-2f4a4e396015",
   "metadata": {
    "tags": []
   },
   "source": [
    "## 3. Load the Dataset into pandas dataframe."
   ]
  },
  {
   "cell_type": "code",
   "execution_count": 68,
   "id": "24074fe4-89a1-4909-8a71-a140cac9dbaf",
   "metadata": {
    "tags": []
   },
   "outputs": [
    {
     "data": {
      "text/html": [
       "<div>\n",
       "<style scoped>\n",
       "    .dataframe tbody tr th:only-of-type {\n",
       "        vertical-align: middle;\n",
       "    }\n",
       "\n",
       "    .dataframe tbody tr th {\n",
       "        vertical-align: top;\n",
       "    }\n",
       "\n",
       "    .dataframe thead th {\n",
       "        text-align: right;\n",
       "    }\n",
       "</style>\n",
       "<table border=\"1\" class=\"dataframe\">\n",
       "  <thead>\n",
       "    <tr style=\"text-align: right;\">\n",
       "      <th></th>\n",
       "      <th>Roll No</th>\n",
       "      <th>Name</th>\n",
       "      <th>Gender</th>\n",
       "      <th>Sem1</th>\n",
       "      <th>Sem2</th>\n",
       "      <th>Sem3</th>\n",
       "      <th>Sem4</th>\n",
       "      <th>average Score</th>\n",
       "    </tr>\n",
       "  </thead>\n",
       "  <tbody>\n",
       "    <tr>\n",
       "      <th>0</th>\n",
       "      <td>1</td>\n",
       "      <td>Aditya</td>\n",
       "      <td>M</td>\n",
       "      <td>75.0</td>\n",
       "      <td>10.0</td>\n",
       "      <td>78.0</td>\n",
       "      <td>95.0</td>\n",
       "      <td>64.5</td>\n",
       "    </tr>\n",
       "    <tr>\n",
       "      <th>1</th>\n",
       "      <td>2</td>\n",
       "      <td>Priti</td>\n",
       "      <td>F</td>\n",
       "      <td>78.0</td>\n",
       "      <td>76.0</td>\n",
       "      <td>78.0</td>\n",
       "      <td>76.0</td>\n",
       "      <td>77.0</td>\n",
       "    </tr>\n",
       "    <tr>\n",
       "      <th>2</th>\n",
       "      <td>3</td>\n",
       "      <td>Arjun</td>\n",
       "      <td>M</td>\n",
       "      <td>7.0</td>\n",
       "      <td>95.0</td>\n",
       "      <td>98.0</td>\n",
       "      <td>90.0</td>\n",
       "      <td>72.5</td>\n",
       "    </tr>\n",
       "    <tr>\n",
       "      <th>3</th>\n",
       "      <td>4</td>\n",
       "      <td>Bheem</td>\n",
       "      <td>M</td>\n",
       "      <td>88.0</td>\n",
       "      <td>68.0</td>\n",
       "      <td>78.0</td>\n",
       "      <td>80.0</td>\n",
       "      <td>78.5</td>\n",
       "    </tr>\n",
       "    <tr>\n",
       "      <th>4</th>\n",
       "      <td>5</td>\n",
       "      <td>Raju</td>\n",
       "      <td>M</td>\n",
       "      <td>25.0</td>\n",
       "      <td>69.0</td>\n",
       "      <td>NaN</td>\n",
       "      <td>70.0</td>\n",
       "      <td>41.0</td>\n",
       "    </tr>\n",
       "  </tbody>\n",
       "</table>\n",
       "</div>"
      ],
      "text/plain": [
       "   Roll No    Name Gender  Sem1  Sem2  Sem3  Sem4  average Score\n",
       "0        1  Aditya      M  75.0  10.0  78.0  95.0           64.5\n",
       "1        2   Priti      F  78.0  76.0  78.0  76.0           77.0\n",
       "2        3   Arjun      M   7.0  95.0  98.0  90.0           72.5\n",
       "3        4   Bheem      M  88.0  68.0  78.0  80.0           78.5\n",
       "4        5    Raju      M  25.0  69.0   NaN  70.0           41.0"
      ]
     },
     "execution_count": 68,
     "metadata": {},
     "output_type": "execute_result"
    }
   ],
   "source": [
    "stud = pd.read_csv('../Datasets/student.csv')\n",
    "stud.head()"
   ]
  },
  {
   "cell_type": "markdown",
   "id": "4a82b767-9576-4803-ab28-4f310cbee237",
   "metadata": {},
   "source": [
    "## 4. Data Preprocessing: check for missing values in the data using pandas isnull(), describe() function to get some initial statistics. Provide variable descriptions. Types of variables etc. Check the dimensions of the data frame."
   ]
  },
  {
   "cell_type": "code",
   "execution_count": 69,
   "id": "9941dd39-82b6-4152-bad5-05fb984b4a51",
   "metadata": {
    "tags": []
   },
   "outputs": [
    {
     "data": {
      "text/plain": [
       "Roll No          0\n",
       "Name             0\n",
       "Gender           0\n",
       "Sem1             2\n",
       "Sem2             2\n",
       "Sem3             2\n",
       "Sem4             3\n",
       "average Score    0\n",
       "dtype: int64"
      ]
     },
     "execution_count": 69,
     "metadata": {},
     "output_type": "execute_result"
    }
   ],
   "source": [
    "# checking for missing values\n",
    "stud.isnull().sum()"
   ]
  },
  {
   "cell_type": "code",
   "execution_count": 70,
   "id": "78694d78-79b2-4874-ae26-0e34bbb31e85",
   "metadata": {
    "tags": []
   },
   "outputs": [
    {
     "data": {
      "text/html": [
       "<div>\n",
       "<style scoped>\n",
       "    .dataframe tbody tr th:only-of-type {\n",
       "        vertical-align: middle;\n",
       "    }\n",
       "\n",
       "    .dataframe tbody tr th {\n",
       "        vertical-align: top;\n",
       "    }\n",
       "\n",
       "    .dataframe thead th {\n",
       "        text-align: right;\n",
       "    }\n",
       "</style>\n",
       "<table border=\"1\" class=\"dataframe\">\n",
       "  <thead>\n",
       "    <tr style=\"text-align: right;\">\n",
       "      <th></th>\n",
       "      <th>Roll No</th>\n",
       "      <th>Sem1</th>\n",
       "      <th>Sem2</th>\n",
       "      <th>Sem3</th>\n",
       "      <th>Sem4</th>\n",
       "      <th>average Score</th>\n",
       "    </tr>\n",
       "  </thead>\n",
       "  <tbody>\n",
       "    <tr>\n",
       "      <th>count</th>\n",
       "      <td>30.000000</td>\n",
       "      <td>28.000000</td>\n",
       "      <td>28.000000</td>\n",
       "      <td>28.000000</td>\n",
       "      <td>27.000000</td>\n",
       "      <td>30.000000</td>\n",
       "    </tr>\n",
       "    <tr>\n",
       "      <th>mean</th>\n",
       "      <td>15.500000</td>\n",
       "      <td>70.392857</td>\n",
       "      <td>76.214286</td>\n",
       "      <td>78.285714</td>\n",
       "      <td>77.296296</td>\n",
       "      <td>75.119445</td>\n",
       "    </tr>\n",
       "    <tr>\n",
       "      <th>std</th>\n",
       "      <td>8.803408</td>\n",
       "      <td>81.065287</td>\n",
       "      <td>59.355400</td>\n",
       "      <td>84.232420</td>\n",
       "      <td>105.490362</td>\n",
       "      <td>45.505424</td>\n",
       "    </tr>\n",
       "    <tr>\n",
       "      <th>min</th>\n",
       "      <td>1.000000</td>\n",
       "      <td>3.000000</td>\n",
       "      <td>10.000000</td>\n",
       "      <td>-8.000000</td>\n",
       "      <td>2.000000</td>\n",
       "      <td>20.500000</td>\n",
       "    </tr>\n",
       "    <tr>\n",
       "      <th>25%</th>\n",
       "      <td>8.250000</td>\n",
       "      <td>37.250000</td>\n",
       "      <td>58.500000</td>\n",
       "      <td>49.500000</td>\n",
       "      <td>43.500000</td>\n",
       "      <td>52.125000</td>\n",
       "    </tr>\n",
       "    <tr>\n",
       "      <th>50%</th>\n",
       "      <td>15.500000</td>\n",
       "      <td>56.500000</td>\n",
       "      <td>68.500000</td>\n",
       "      <td>75.000000</td>\n",
       "      <td>68.000000</td>\n",
       "      <td>59.875000</td>\n",
       "    </tr>\n",
       "    <tr>\n",
       "      <th>75%</th>\n",
       "      <td>22.750000</td>\n",
       "      <td>80.250000</td>\n",
       "      <td>84.000000</td>\n",
       "      <td>84.500000</td>\n",
       "      <td>83.000000</td>\n",
       "      <td>76.000000</td>\n",
       "    </tr>\n",
       "    <tr>\n",
       "      <th>max</th>\n",
       "      <td>30.000000</td>\n",
       "      <td>459.000000</td>\n",
       "      <td>356.000000</td>\n",
       "      <td>485.000000</td>\n",
       "      <td>586.000000</td>\n",
       "      <td>236.666667</td>\n",
       "    </tr>\n",
       "  </tbody>\n",
       "</table>\n",
       "</div>"
      ],
      "text/plain": [
       "         Roll No        Sem1        Sem2        Sem3        Sem4  \\\n",
       "count  30.000000   28.000000   28.000000   28.000000   27.000000   \n",
       "mean   15.500000   70.392857   76.214286   78.285714   77.296296   \n",
       "std     8.803408   81.065287   59.355400   84.232420  105.490362   \n",
       "min     1.000000    3.000000   10.000000   -8.000000    2.000000   \n",
       "25%     8.250000   37.250000   58.500000   49.500000   43.500000   \n",
       "50%    15.500000   56.500000   68.500000   75.000000   68.000000   \n",
       "75%    22.750000   80.250000   84.000000   84.500000   83.000000   \n",
       "max    30.000000  459.000000  356.000000  485.000000  586.000000   \n",
       "\n",
       "       average Score  \n",
       "count      30.000000  \n",
       "mean       75.119445  \n",
       "std        45.505424  \n",
       "min        20.500000  \n",
       "25%        52.125000  \n",
       "50%        59.875000  \n",
       "75%        76.000000  \n",
       "max       236.666667  "
      ]
     },
     "execution_count": 70,
     "metadata": {},
     "output_type": "execute_result"
    }
   ],
   "source": [
    "# initial statistics\n",
    "stud.describe()"
   ]
  },
  {
   "cell_type": "code",
   "execution_count": 71,
   "id": "ed3d8c0e-bec6-419d-a420-e5cbc1ee92f3",
   "metadata": {
    "tags": []
   },
   "outputs": [
    {
     "name": "stdout",
     "output_type": "stream",
     "text": [
      "<class 'pandas.core.frame.DataFrame'>\n",
      "RangeIndex: 30 entries, 0 to 29\n",
      "Data columns (total 8 columns):\n",
      " #   Column         Non-Null Count  Dtype  \n",
      "---  ------         --------------  -----  \n",
      " 0   Roll No        30 non-null     int64  \n",
      " 1   Name           30 non-null     object \n",
      " 2   Gender         30 non-null     object \n",
      " 3   Sem1           28 non-null     float64\n",
      " 4   Sem2           28 non-null     float64\n",
      " 5   Sem3           28 non-null     float64\n",
      " 6   Sem4           27 non-null     float64\n",
      " 7   average Score  30 non-null     float64\n",
      "dtypes: float64(5), int64(1), object(2)\n",
      "memory usage: 2.0+ KB\n"
     ]
    }
   ],
   "source": [
    "# checking data types\n",
    "stud.info()"
   ]
  },
  {
   "cell_type": "code",
   "execution_count": 72,
   "id": "4851f87c-f511-4360-b0cd-424ed887bf84",
   "metadata": {
    "tags": []
   },
   "outputs": [
    {
     "data": {
      "text/plain": [
       "Roll No            int64\n",
       "Name              object\n",
       "Gender            object\n",
       "Sem1             float64\n",
       "Sem2             float64\n",
       "Sem3             float64\n",
       "Sem4             float64\n",
       "average Score    float64\n",
       "dtype: object"
      ]
     },
     "execution_count": 72,
     "metadata": {},
     "output_type": "execute_result"
    }
   ],
   "source": [
    "# checking data types\n",
    "stud.dtypes"
   ]
  },
  {
   "cell_type": "code",
   "execution_count": 73,
   "id": "c999e11a-bdc7-488d-b89b-325fd887348e",
   "metadata": {
    "tags": []
   },
   "outputs": [
    {
     "data": {
      "text/plain": [
       "(30, 8)"
      ]
     },
     "execution_count": 73,
     "metadata": {},
     "output_type": "execute_result"
    }
   ],
   "source": [
    "# checking dimensions\n",
    "stud.shape"
   ]
  },
  {
   "cell_type": "markdown",
   "id": "e82f6616-3209-488a-bfe6-d4a37fe462b8",
   "metadata": {},
   "source": [
    "## 5. Data Formatting and Data Normalization: Summarize the types of variables by checking the data types (i.e., character, numeric, integer, factor, and logical) of the variables in the data set. If variables are not in the correct data type, apply proper type conversions."
   ]
  },
  {
   "cell_type": "code",
   "execution_count": 74,
   "id": "ab6804d5-03f9-4ef2-879f-c449eabf413e",
   "metadata": {
    "tags": []
   },
   "outputs": [],
   "source": [
    "stud.dropna(inplace=True)"
   ]
  },
  {
   "cell_type": "code",
   "execution_count": 75,
   "id": "acf180de-0235-4c6b-bd7a-17ee2b9130fc",
   "metadata": {
    "tags": []
   },
   "outputs": [],
   "source": [
    "stud[['Sem1','Sem2','Sem3','Sem4']]=stud[['Sem1','Sem2','Sem3','Sem4']].astype('int64')"
   ]
  },
  {
   "cell_type": "code",
   "execution_count": 76,
   "id": "dfb95e9a-8571-4639-9883-6c47caab23c9",
   "metadata": {
    "tags": []
   },
   "outputs": [
    {
     "name": "stdout",
     "output_type": "stream",
     "text": [
      "<class 'pandas.core.frame.DataFrame'>\n",
      "Int64Index: 21 entries, 0 to 28\n",
      "Data columns (total 8 columns):\n",
      " #   Column         Non-Null Count  Dtype  \n",
      "---  ------         --------------  -----  \n",
      " 0   Roll No        21 non-null     int64  \n",
      " 1   Name           21 non-null     object \n",
      " 2   Gender         21 non-null     object \n",
      " 3   Sem1           21 non-null     int64  \n",
      " 4   Sem2           21 non-null     int64  \n",
      " 5   Sem3           21 non-null     int64  \n",
      " 6   Sem4           21 non-null     int64  \n",
      " 7   average Score  21 non-null     float64\n",
      "dtypes: float64(1), int64(5), object(2)\n",
      "memory usage: 1.5+ KB\n"
     ]
    }
   ],
   "source": [
    "stud.info()"
   ]
  },
  {
   "cell_type": "markdown",
   "id": "fa09dca8-ea30-4050-a927-ef010fb65b82",
   "metadata": {},
   "source": [
    "## 6. Turn categorical variables into quantitative variables in Python. In addition to the codes and outputs, explain every operation that you do in the above steps and explain everything that you do to import/read/scrape the data set."
   ]
  },
  {
   "cell_type": "code",
   "execution_count": 77,
   "id": "98cfd828-1840-43b5-8941-5d484c09c34b",
   "metadata": {
    "tags": []
   },
   "outputs": [
    {
     "data": {
      "text/html": [
       "<div>\n",
       "<style scoped>\n",
       "    .dataframe tbody tr th:only-of-type {\n",
       "        vertical-align: middle;\n",
       "    }\n",
       "\n",
       "    .dataframe tbody tr th {\n",
       "        vertical-align: top;\n",
       "    }\n",
       "\n",
       "    .dataframe thead th {\n",
       "        text-align: right;\n",
       "    }\n",
       "</style>\n",
       "<table border=\"1\" class=\"dataframe\">\n",
       "  <thead>\n",
       "    <tr style=\"text-align: right;\">\n",
       "      <th></th>\n",
       "      <th>Roll No</th>\n",
       "      <th>Name</th>\n",
       "      <th>Gender</th>\n",
       "      <th>Sem1</th>\n",
       "      <th>Sem2</th>\n",
       "      <th>Sem3</th>\n",
       "      <th>Sem4</th>\n",
       "      <th>average Score</th>\n",
       "    </tr>\n",
       "  </thead>\n",
       "  <tbody>\n",
       "    <tr>\n",
       "      <th>0</th>\n",
       "      <td>1</td>\n",
       "      <td>Aditya</td>\n",
       "      <td>M</td>\n",
       "      <td>75</td>\n",
       "      <td>10</td>\n",
       "      <td>78</td>\n",
       "      <td>95</td>\n",
       "      <td>64.5</td>\n",
       "    </tr>\n",
       "    <tr>\n",
       "      <th>1</th>\n",
       "      <td>2</td>\n",
       "      <td>Priti</td>\n",
       "      <td>F</td>\n",
       "      <td>78</td>\n",
       "      <td>76</td>\n",
       "      <td>78</td>\n",
       "      <td>76</td>\n",
       "      <td>77.0</td>\n",
       "    </tr>\n",
       "  </tbody>\n",
       "</table>\n",
       "</div>"
      ],
      "text/plain": [
       "   Roll No    Name Gender  Sem1  Sem2  Sem3  Sem4  average Score\n",
       "0        1  Aditya      M    75    10    78    95           64.5\n",
       "1        2   Priti      F    78    76    78    76           77.0"
      ]
     },
     "execution_count": 77,
     "metadata": {},
     "output_type": "execute_result"
    }
   ],
   "source": [
    "stud.head(2)"
   ]
  },
  {
   "cell_type": "code",
   "execution_count": 78,
   "id": "461d84c3-d6b0-4c60-b9fb-7df933aec34b",
   "metadata": {
    "tags": []
   },
   "outputs": [],
   "source": [
    "stud['Gender'] = stud['Gender'].map({'M':0,'F':1})"
   ]
  },
  {
   "cell_type": "code",
   "execution_count": 79,
   "id": "58ac3d41-4687-4700-a5a2-7e050c9b006b",
   "metadata": {
    "tags": []
   },
   "outputs": [
    {
     "data": {
      "text/html": [
       "<div>\n",
       "<style scoped>\n",
       "    .dataframe tbody tr th:only-of-type {\n",
       "        vertical-align: middle;\n",
       "    }\n",
       "\n",
       "    .dataframe tbody tr th {\n",
       "        vertical-align: top;\n",
       "    }\n",
       "\n",
       "    .dataframe thead th {\n",
       "        text-align: right;\n",
       "    }\n",
       "</style>\n",
       "<table border=\"1\" class=\"dataframe\">\n",
       "  <thead>\n",
       "    <tr style=\"text-align: right;\">\n",
       "      <th></th>\n",
       "      <th>Roll No</th>\n",
       "      <th>Name</th>\n",
       "      <th>Gender</th>\n",
       "      <th>Sem1</th>\n",
       "      <th>Sem2</th>\n",
       "      <th>Sem3</th>\n",
       "      <th>Sem4</th>\n",
       "      <th>average Score</th>\n",
       "    </tr>\n",
       "  </thead>\n",
       "  <tbody>\n",
       "    <tr>\n",
       "      <th>0</th>\n",
       "      <td>1</td>\n",
       "      <td>Aditya</td>\n",
       "      <td>0</td>\n",
       "      <td>75</td>\n",
       "      <td>10</td>\n",
       "      <td>78</td>\n",
       "      <td>95</td>\n",
       "      <td>64.5</td>\n",
       "    </tr>\n",
       "    <tr>\n",
       "      <th>1</th>\n",
       "      <td>2</td>\n",
       "      <td>Priti</td>\n",
       "      <td>1</td>\n",
       "      <td>78</td>\n",
       "      <td>76</td>\n",
       "      <td>78</td>\n",
       "      <td>76</td>\n",
       "      <td>77.0</td>\n",
       "    </tr>\n",
       "  </tbody>\n",
       "</table>\n",
       "</div>"
      ],
      "text/plain": [
       "   Roll No    Name  Gender  Sem1  Sem2  Sem3  Sem4  average Score\n",
       "0        1  Aditya       0    75    10    78    95           64.5\n",
       "1        2   Priti       1    78    76    78    76           77.0"
      ]
     },
     "execution_count": 79,
     "metadata": {},
     "output_type": "execute_result"
    }
   ],
   "source": [
    "stud.head(2)"
   ]
  }
 ],
 "metadata": {
  "kernelspec": {
   "display_name": "Python 3 (ipykernel)",
   "language": "python",
   "name": "python3"
  },
  "language_info": {
   "codemirror_mode": {
    "name": "ipython",
    "version": 3
   },
   "file_extension": ".py",
   "mimetype": "text/x-python",
   "name": "python",
   "nbconvert_exporter": "python",
   "pygments_lexer": "ipython3",
   "version": "3.12.1"
  }
 },
 "nbformat": 4,
 "nbformat_minor": 5
}
